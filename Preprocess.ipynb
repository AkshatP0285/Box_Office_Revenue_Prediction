{
 "cells": [
  {
   "cell_type": "markdown",
   "metadata": {},
   "source": [
    "# PREPROCESSING THE DATASET"
   ]
  },
  {
   "cell_type": "code",
   "execution_count": 1,
   "metadata": {},
   "outputs": [],
   "source": [
    "import numpy as np\n",
    "import pandas as pd\n",
    "import matplotlib.pyplot as plt\n",
    "from sklearn.preprocessing import LabelEncoder"
   ]
  },
  {
   "cell_type": "code",
   "execution_count": 9,
   "metadata": {},
   "outputs": [],
   "source": [
    "# load the dataset\n",
    "df = pd.read_csv('tmdb_movies_data.csv')"
   ]
  },
  {
   "cell_type": "code",
   "execution_count": 10,
   "metadata": {},
   "outputs": [
    {
     "data": {
      "text/plain": [
       "(10866, 21)"
      ]
     },
     "execution_count": 10,
     "metadata": {},
     "output_type": "execute_result"
    }
   ],
   "source": [
    "df.shape"
   ]
  },
  {
   "cell_type": "code",
   "execution_count": 3,
   "metadata": {},
   "outputs": [
    {
     "data": {
      "text/html": [
       "<div>\n",
       "<style scoped>\n",
       "    .dataframe tbody tr th:only-of-type {\n",
       "        vertical-align: middle;\n",
       "    }\n",
       "\n",
       "    .dataframe tbody tr th {\n",
       "        vertical-align: top;\n",
       "    }\n",
       "\n",
       "    .dataframe thead th {\n",
       "        text-align: right;\n",
       "    }\n",
       "</style>\n",
       "<table border=\"1\" class=\"dataframe\">\n",
       "  <thead>\n",
       "    <tr style=\"text-align: right;\">\n",
       "      <th></th>\n",
       "      <th>id</th>\n",
       "      <th>imdb_id</th>\n",
       "      <th>popularity</th>\n",
       "      <th>budget</th>\n",
       "      <th>revenue</th>\n",
       "      <th>original_title</th>\n",
       "      <th>cast</th>\n",
       "      <th>homepage</th>\n",
       "      <th>director</th>\n",
       "      <th>tagline</th>\n",
       "      <th>...</th>\n",
       "      <th>overview</th>\n",
       "      <th>runtime</th>\n",
       "      <th>genres</th>\n",
       "      <th>production_companies</th>\n",
       "      <th>release_date</th>\n",
       "      <th>vote_count</th>\n",
       "      <th>vote_average</th>\n",
       "      <th>release_year</th>\n",
       "      <th>budget_adj</th>\n",
       "      <th>revenue_adj</th>\n",
       "    </tr>\n",
       "  </thead>\n",
       "  <tbody>\n",
       "    <tr>\n",
       "      <th>0</th>\n",
       "      <td>135397</td>\n",
       "      <td>tt0369610</td>\n",
       "      <td>32.985763</td>\n",
       "      <td>150000000</td>\n",
       "      <td>1513528810</td>\n",
       "      <td>Jurassic World</td>\n",
       "      <td>Chris Pratt|Bryce Dallas Howard|Irrfan Khan|Vi...</td>\n",
       "      <td>http://www.jurassicworld.com/</td>\n",
       "      <td>Colin Trevorrow</td>\n",
       "      <td>The park is open.</td>\n",
       "      <td>...</td>\n",
       "      <td>Twenty-two years after the events of Jurassic ...</td>\n",
       "      <td>124</td>\n",
       "      <td>Action|Adventure|Science Fiction|Thriller</td>\n",
       "      <td>Universal Studios|Amblin Entertainment|Legenda...</td>\n",
       "      <td>6/9/2015</td>\n",
       "      <td>5562</td>\n",
       "      <td>6.5</td>\n",
       "      <td>2015</td>\n",
       "      <td>137999939.3</td>\n",
       "      <td>1.392446e+09</td>\n",
       "    </tr>\n",
       "    <tr>\n",
       "      <th>1</th>\n",
       "      <td>76341</td>\n",
       "      <td>tt1392190</td>\n",
       "      <td>28.419936</td>\n",
       "      <td>150000000</td>\n",
       "      <td>378436354</td>\n",
       "      <td>Mad Max: Fury Road</td>\n",
       "      <td>Tom Hardy|Charlize Theron|Hugh Keays-Byrne|Nic...</td>\n",
       "      <td>http://www.madmaxmovie.com/</td>\n",
       "      <td>George Miller</td>\n",
       "      <td>What a Lovely Day.</td>\n",
       "      <td>...</td>\n",
       "      <td>An apocalyptic story set in the furthest reach...</td>\n",
       "      <td>120</td>\n",
       "      <td>Action|Adventure|Science Fiction|Thriller</td>\n",
       "      <td>Village Roadshow Pictures|Kennedy Miller Produ...</td>\n",
       "      <td>5/13/2015</td>\n",
       "      <td>6185</td>\n",
       "      <td>7.1</td>\n",
       "      <td>2015</td>\n",
       "      <td>137999939.3</td>\n",
       "      <td>3.481613e+08</td>\n",
       "    </tr>\n",
       "    <tr>\n",
       "      <th>2</th>\n",
       "      <td>262500</td>\n",
       "      <td>tt2908446</td>\n",
       "      <td>13.112507</td>\n",
       "      <td>110000000</td>\n",
       "      <td>295238201</td>\n",
       "      <td>Insurgent</td>\n",
       "      <td>Shailene Woodley|Theo James|Kate Winslet|Ansel...</td>\n",
       "      <td>http://www.thedivergentseries.movie/#insurgent</td>\n",
       "      <td>Robert Schwentke</td>\n",
       "      <td>One Choice Can Destroy You</td>\n",
       "      <td>...</td>\n",
       "      <td>Beatrice Prior must confront her inner demons ...</td>\n",
       "      <td>119</td>\n",
       "      <td>Adventure|Science Fiction|Thriller</td>\n",
       "      <td>Summit Entertainment|Mandeville Films|Red Wago...</td>\n",
       "      <td>3/18/2015</td>\n",
       "      <td>2480</td>\n",
       "      <td>6.3</td>\n",
       "      <td>2015</td>\n",
       "      <td>101199955.5</td>\n",
       "      <td>2.716190e+08</td>\n",
       "    </tr>\n",
       "    <tr>\n",
       "      <th>3</th>\n",
       "      <td>140607</td>\n",
       "      <td>tt2488496</td>\n",
       "      <td>11.173104</td>\n",
       "      <td>200000000</td>\n",
       "      <td>2068178225</td>\n",
       "      <td>Star Wars: The Force Awakens</td>\n",
       "      <td>Harrison Ford|Mark Hamill|Carrie Fisher|Adam D...</td>\n",
       "      <td>http://www.starwars.com/films/star-wars-episod...</td>\n",
       "      <td>J.J. Abrams</td>\n",
       "      <td>Every generation has a story.</td>\n",
       "      <td>...</td>\n",
       "      <td>Thirty years after defeating the Galactic Empi...</td>\n",
       "      <td>136</td>\n",
       "      <td>Action|Adventure|Science Fiction|Fantasy</td>\n",
       "      <td>Lucasfilm|Truenorth Productions|Bad Robot</td>\n",
       "      <td>12/15/2015</td>\n",
       "      <td>5292</td>\n",
       "      <td>7.5</td>\n",
       "      <td>2015</td>\n",
       "      <td>183999919.0</td>\n",
       "      <td>1.902723e+09</td>\n",
       "    </tr>\n",
       "    <tr>\n",
       "      <th>4</th>\n",
       "      <td>168259</td>\n",
       "      <td>tt2820852</td>\n",
       "      <td>9.335014</td>\n",
       "      <td>190000000</td>\n",
       "      <td>1506249360</td>\n",
       "      <td>Furious 7</td>\n",
       "      <td>Vin Diesel|Paul Walker|Jason Statham|Michelle ...</td>\n",
       "      <td>http://www.furious7.com/</td>\n",
       "      <td>James Wan</td>\n",
       "      <td>Vengeance Hits Home</td>\n",
       "      <td>...</td>\n",
       "      <td>Deckard Shaw seeks revenge against Dominic Tor...</td>\n",
       "      <td>137</td>\n",
       "      <td>Action|Crime|Thriller</td>\n",
       "      <td>Universal Pictures|Original Film|Media Rights ...</td>\n",
       "      <td>4/1/2015</td>\n",
       "      <td>2947</td>\n",
       "      <td>7.3</td>\n",
       "      <td>2015</td>\n",
       "      <td>174799923.1</td>\n",
       "      <td>1.385749e+09</td>\n",
       "    </tr>\n",
       "  </tbody>\n",
       "</table>\n",
       "<p>5 rows × 21 columns</p>\n",
       "</div>"
      ],
      "text/plain": [
       "       id    imdb_id  popularity     budget     revenue  \\\n",
       "0  135397  tt0369610   32.985763  150000000  1513528810   \n",
       "1   76341  tt1392190   28.419936  150000000   378436354   \n",
       "2  262500  tt2908446   13.112507  110000000   295238201   \n",
       "3  140607  tt2488496   11.173104  200000000  2068178225   \n",
       "4  168259  tt2820852    9.335014  190000000  1506249360   \n",
       "\n",
       "                 original_title  \\\n",
       "0                Jurassic World   \n",
       "1            Mad Max: Fury Road   \n",
       "2                     Insurgent   \n",
       "3  Star Wars: The Force Awakens   \n",
       "4                     Furious 7   \n",
       "\n",
       "                                                cast  \\\n",
       "0  Chris Pratt|Bryce Dallas Howard|Irrfan Khan|Vi...   \n",
       "1  Tom Hardy|Charlize Theron|Hugh Keays-Byrne|Nic...   \n",
       "2  Shailene Woodley|Theo James|Kate Winslet|Ansel...   \n",
       "3  Harrison Ford|Mark Hamill|Carrie Fisher|Adam D...   \n",
       "4  Vin Diesel|Paul Walker|Jason Statham|Michelle ...   \n",
       "\n",
       "                                            homepage          director  \\\n",
       "0                      http://www.jurassicworld.com/   Colin Trevorrow   \n",
       "1                        http://www.madmaxmovie.com/     George Miller   \n",
       "2     http://www.thedivergentseries.movie/#insurgent  Robert Schwentke   \n",
       "3  http://www.starwars.com/films/star-wars-episod...       J.J. Abrams   \n",
       "4                           http://www.furious7.com/         James Wan   \n",
       "\n",
       "                         tagline  ...  \\\n",
       "0              The park is open.  ...   \n",
       "1             What a Lovely Day.  ...   \n",
       "2     One Choice Can Destroy You  ...   \n",
       "3  Every generation has a story.  ...   \n",
       "4            Vengeance Hits Home  ...   \n",
       "\n",
       "                                            overview runtime  \\\n",
       "0  Twenty-two years after the events of Jurassic ...     124   \n",
       "1  An apocalyptic story set in the furthest reach...     120   \n",
       "2  Beatrice Prior must confront her inner demons ...     119   \n",
       "3  Thirty years after defeating the Galactic Empi...     136   \n",
       "4  Deckard Shaw seeks revenge against Dominic Tor...     137   \n",
       "\n",
       "                                      genres  \\\n",
       "0  Action|Adventure|Science Fiction|Thriller   \n",
       "1  Action|Adventure|Science Fiction|Thriller   \n",
       "2         Adventure|Science Fiction|Thriller   \n",
       "3   Action|Adventure|Science Fiction|Fantasy   \n",
       "4                      Action|Crime|Thriller   \n",
       "\n",
       "                                production_companies release_date vote_count  \\\n",
       "0  Universal Studios|Amblin Entertainment|Legenda...     6/9/2015       5562   \n",
       "1  Village Roadshow Pictures|Kennedy Miller Produ...    5/13/2015       6185   \n",
       "2  Summit Entertainment|Mandeville Films|Red Wago...    3/18/2015       2480   \n",
       "3          Lucasfilm|Truenorth Productions|Bad Robot   12/15/2015       5292   \n",
       "4  Universal Pictures|Original Film|Media Rights ...     4/1/2015       2947   \n",
       "\n",
       "   vote_average  release_year   budget_adj   revenue_adj  \n",
       "0           6.5          2015  137999939.3  1.392446e+09  \n",
       "1           7.1          2015  137999939.3  3.481613e+08  \n",
       "2           6.3          2015  101199955.5  2.716190e+08  \n",
       "3           7.5          2015  183999919.0  1.902723e+09  \n",
       "4           7.3          2015  174799923.1  1.385749e+09  \n",
       "\n",
       "[5 rows x 21 columns]"
      ]
     },
     "execution_count": 3,
     "metadata": {},
     "output_type": "execute_result"
    }
   ],
   "source": [
    "# analyse the dataset\n",
    "df.head()\n"
   ]
  },
  {
   "cell_type": "markdown",
   "metadata": {},
   "source": [
    "# CHECKING THE MISSING VALUES"
   ]
  },
  {
   "cell_type": "code",
   "execution_count": 4,
   "metadata": {},
   "outputs": [
    {
     "name": "stdout",
     "output_type": "stream",
     "text": [
      "id                         0\n",
      "imdb_id                   10\n",
      "popularity                 0\n",
      "budget                     0\n",
      "revenue                    0\n",
      "original_title             0\n",
      "cast                      76\n",
      "homepage                7930\n",
      "director                  44\n",
      "tagline                 2824\n",
      "keywords                1493\n",
      "overview                   4\n",
      "runtime                    0\n",
      "genres                    23\n",
      "production_companies    1030\n",
      "release_date               0\n",
      "vote_count                 0\n",
      "vote_average               0\n",
      "release_year               0\n",
      "budget_adj                 0\n",
      "revenue_adj                0\n",
      "dtype: int64\n",
      "Total missing values in training data: 13434\n"
     ]
    }
   ],
   "source": [
    "# check for missing values\n",
    "missing_values = df.isnull().sum()\n",
    "print(missing_values)\n",
    "\n",
    "#total missing values\n",
    "total_missing_values = missing_values.sum()\n",
    "print('Total missing values in training data:', total_missing_values)"
   ]
  },
  {
   "cell_type": "markdown",
   "metadata": {},
   "source": [
    "# DROPPING IRRELEVANT FEATURES TO SIMPLIFY THE DATASET"
   ]
  },
  {
   "cell_type": "code",
   "execution_count": 5,
   "metadata": {},
   "outputs": [
    {
     "name": "stdout",
     "output_type": "stream",
     "text": [
      "       id  popularity     budget     revenue  runtime  \\\n",
      "0  135397   32.985763  150000000  1513528810      124   \n",
      "1   76341   28.419936  150000000   378436354      120   \n",
      "2  262500   13.112507  110000000   295238201      119   \n",
      "3  140607   11.173104  200000000  2068178225      136   \n",
      "4  168259    9.335014  190000000  1506249360      137   \n",
      "\n",
      "                                      genres release_date  vote_count  \\\n",
      "0  Action|Adventure|Science Fiction|Thriller     6/9/2015        5562   \n",
      "1  Action|Adventure|Science Fiction|Thriller    5/13/2015        6185   \n",
      "2         Adventure|Science Fiction|Thriller    3/18/2015        2480   \n",
      "3   Action|Adventure|Science Fiction|Fantasy   12/15/2015        5292   \n",
      "4                      Action|Crime|Thriller     4/1/2015        2947   \n",
      "\n",
      "   vote_average  release_year   budget_adj   revenue_adj  \n",
      "0           6.5          2015  137999939.3  1.392446e+09  \n",
      "1           7.1          2015  137999939.3  3.481613e+08  \n",
      "2           6.3          2015  101199955.5  2.716190e+08  \n",
      "3           7.5          2015  183999919.0  1.902723e+09  \n",
      "4           7.3          2015  174799923.1  1.385749e+09  \n"
     ]
    }
   ],
   "source": [
    "# dropping irrelevant columns\n",
    "features_to_drop = ['cast', 'homepage', 'tagline','original_title', 'keywords', 'overview', 'director', 'imdb_id','production_companies']\n",
    "\n",
    "# Drop the specified features\n",
    "df = df.drop(features_to_drop, axis=1)\n",
    "\n",
    "# Display the updated DataFrame\n",
    "print(df.head())"
   ]
  },
  {
   "cell_type": "code",
   "execution_count": 6,
   "metadata": {},
   "outputs": [
    {
     "name": "stdout",
     "output_type": "stream",
     "text": [
      "id               0\n",
      "popularity       0\n",
      "budget           0\n",
      "revenue          0\n",
      "runtime          0\n",
      "genres          23\n",
      "release_date     0\n",
      "vote_count       0\n",
      "vote_average     0\n",
      "release_year     0\n",
      "budget_adj       0\n",
      "revenue_adj      0\n",
      "dtype: int64\n"
     ]
    }
   ],
   "source": [
    "missing_values = df.isnull().sum()\n",
    "print(missing_values)"
   ]
  },
  {
   "cell_type": "markdown",
   "metadata": {},
   "source": [
    "# DROPPING DATAPOINTS WITH MISSING VALUES"
   ]
  },
  {
   "cell_type": "code",
   "execution_count": 7,
   "metadata": {},
   "outputs": [],
   "source": [
    "# drop rows with missing values\n",
    "df = df.dropna()"
   ]
  },
  {
   "cell_type": "code",
   "execution_count": 8,
   "metadata": {},
   "outputs": [
    {
     "name": "stdout",
     "output_type": "stream",
     "text": [
      "id              0\n",
      "popularity      0\n",
      "budget          0\n",
      "revenue         0\n",
      "runtime         0\n",
      "genres          0\n",
      "release_date    0\n",
      "vote_count      0\n",
      "vote_average    0\n",
      "release_year    0\n",
      "budget_adj      0\n",
      "revenue_adj     0\n",
      "dtype: int64\n",
      "(10843, 12)\n"
     ]
    }
   ],
   "source": [
    "# check for missing values\n",
    "missing_values = df.isnull().sum()\n",
    "print(missing_values)\n",
    "print(df.shape)"
   ]
  },
  {
   "cell_type": "markdown",
   "metadata": {},
   "source": [
    "# ANALYSING THE DATATYPE OF EACH FEATURE TO DECIDE THE ENCODING TECHNIQUE"
   ]
  },
  {
   "cell_type": "code",
   "execution_count": 184,
   "metadata": {},
   "outputs": [
    {
     "name": "stdout",
     "output_type": "stream",
     "text": [
      "Data Types of Each Feature:\n",
      "id                int64\n",
      "popularity      float64\n",
      "budget            int64\n",
      "revenue           int64\n",
      "runtime           int64\n",
      "genres           object\n",
      "release_date     object\n",
      "vote_count        int64\n",
      "vote_average    float64\n",
      "release_year      int64\n",
      "budget_adj      float64\n",
      "revenue_adj     float64\n",
      "dtype: object\n"
     ]
    }
   ],
   "source": [
    "# Display the data types of each column\n",
    "print(\"Data Types of Each Feature:\")\n",
    "print(df.dtypes)"
   ]
  },
  {
   "cell_type": "markdown",
   "metadata": {},
   "source": [
    "# ENCODING THE FEATURES"
   ]
  },
  {
   "cell_type": "markdown",
   "metadata": {},
   "source": [
    "[1] GENRES"
   ]
  },
  {
   "cell_type": "code",
   "execution_count": 187,
   "metadata": {},
   "outputs": [
    {
     "name": "stdout",
     "output_type": "stream",
     "text": [
      "\n",
      "Updated Dataset with First Genre:\n",
      "       id  popularity     budget     revenue  runtime release_date  \\\n",
      "0  135397   32.985763  150000000  1513528810      124     6/9/2015   \n",
      "1   76341   28.419936  150000000   378436354      120    5/13/2015   \n",
      "2  262500   13.112507  110000000   295238201      119    3/18/2015   \n",
      "3  140607   11.173104  200000000  2068178225      136   12/15/2015   \n",
      "4  168259    9.335014  190000000  1506249360      137     4/1/2015   \n",
      "\n",
      "   vote_count  vote_average  release_year   budget_adj   revenue_adj  \\\n",
      "0        5562           6.5          2015  137999939.3  1.392446e+09   \n",
      "1        6185           7.1          2015  137999939.3  3.481613e+08   \n",
      "2        2480           6.3          2015  101199955.5  2.716190e+08   \n",
      "3        5292           7.5          2015  183999919.0  1.902723e+09   \n",
      "4        2947           7.3          2015  174799923.1  1.385749e+09   \n",
      "\n",
      "  first_genre  \n",
      "0      Action  \n",
      "1      Action  \n",
      "2   Adventure  \n",
      "3      Action  \n",
      "4      Action  \n"
     ]
    }
   ],
   "source": [
    "# Extract the first genre from the delimited entries\n",
    "df['first_genre'] = df['genres'].str.split('|').str[0]\n",
    "\n",
    "# Drop the original 'genres' column (optional)\n",
    "df = df.drop('genres', axis=1)\n",
    "\n",
    "# Display the updated DataFrame\n",
    "print(\"\\nUpdated Dataset with First Genre:\")\n",
    "print(df.head())\n"
   ]
  },
  {
   "cell_type": "code",
   "execution_count": 188,
   "metadata": {},
   "outputs": [
    {
     "name": "stdout",
     "output_type": "stream",
     "text": [
      "id              10842\n",
      "popularity      10791\n",
      "budget            557\n",
      "revenue          4702\n",
      "runtime           246\n",
      "release_date     5904\n",
      "vote_count       1289\n",
      "vote_average       72\n",
      "release_year       56\n",
      "budget_adj       2613\n",
      "revenue_adj      4840\n",
      "first_genre        20\n",
      "dtype: int64\n"
     ]
    }
   ],
   "source": [
    "# total unique values in each column\n",
    "unique_values = df.nunique()\n",
    "print(unique_values)"
   ]
  },
  {
   "cell_type": "code",
   "execution_count": 189,
   "metadata": {},
   "outputs": [
    {
     "name": "stdout",
     "output_type": "stream",
     "text": [
      "           id  popularity     budget     revenue  runtime release_date  \\\n",
      "0      135397   32.985763  150000000  1513528810      124     6/9/2015   \n",
      "1       76341   28.419936  150000000   378436354      120    5/13/2015   \n",
      "2      262500   13.112507  110000000   295238201      119    3/18/2015   \n",
      "3      140607   11.173104  200000000  2068178225      136   12/15/2015   \n",
      "4      168259    9.335014  190000000  1506249360      137     4/1/2015   \n",
      "...       ...         ...        ...         ...      ...          ...   \n",
      "10861      21    0.080598          0           0       95    6/15/1966   \n",
      "10862   20379    0.065543          0           0      176   12/21/1966   \n",
      "10863   39768    0.065141          0           0       94     1/1/1966   \n",
      "10864   21449    0.064317          0           0       80    11/2/1966   \n",
      "10865   22293    0.035919      19000           0       74   11/15/1966   \n",
      "\n",
      "       vote_count  vote_average  release_year    budget_adj   revenue_adj  \\\n",
      "0            5562           6.5          2015  1.379999e+08  1.392446e+09   \n",
      "1            6185           7.1          2015  1.379999e+08  3.481613e+08   \n",
      "2            2480           6.3          2015  1.012000e+08  2.716190e+08   \n",
      "3            5292           7.5          2015  1.839999e+08  1.902723e+09   \n",
      "4            2947           7.3          2015  1.747999e+08  1.385749e+09   \n",
      "...           ...           ...           ...           ...           ...   \n",
      "10861          11           7.4          1966  0.000000e+00  0.000000e+00   \n",
      "10862          20           5.7          1966  0.000000e+00  0.000000e+00   \n",
      "10863          11           6.5          1966  0.000000e+00  0.000000e+00   \n",
      "10864          22           5.4          1966  0.000000e+00  0.000000e+00   \n",
      "10865          15           1.5          1966  1.276423e+05  0.000000e+00   \n",
      "\n",
      "       genre_encoded  \n",
      "0                  0  \n",
      "1                  0  \n",
      "2                  1  \n",
      "3                  0  \n",
      "4                  0  \n",
      "...              ...  \n",
      "10861              5  \n",
      "10862              0  \n",
      "10863             13  \n",
      "10864              0  \n",
      "10865             11  \n",
      "\n",
      "[10843 rows x 12 columns]\n"
     ]
    }
   ],
   "source": [
    "# Applying label encoding to the 'genre' column\n",
    "label_encoder = LabelEncoder()\n",
    "df['genre_encoded'] = label_encoder.fit_transform(df['first_genre'])\n",
    "\n",
    "# drop the 'first_genre' column (optional)\n",
    "df = df.drop('first_genre', axis=1)\n",
    "\n",
    "# Display the updated DataFrame\n",
    "print(df)\n"
   ]
  },
  {
   "cell_type": "code",
   "execution_count": 190,
   "metadata": {},
   "outputs": [
    {
     "name": "stdout",
     "output_type": "stream",
     "text": [
      "\n",
      "Updated DataFrame with Label Encoding:\n",
      "       id  popularity     budget     revenue  runtime release_date  \\\n",
      "0  135397   32.985763  150000000  1513528810      124     6/9/2015   \n",
      "1   76341   28.419936  150000000   378436354      120    5/13/2015   \n",
      "2  262500   13.112507  110000000   295238201      119    3/18/2015   \n",
      "3  140607   11.173104  200000000  2068178225      136   12/15/2015   \n",
      "4  168259    9.335014  190000000  1506249360      137     4/1/2015   \n",
      "\n",
      "   vote_count  vote_average  release_year   budget_adj   revenue_adj  \\\n",
      "0        5562           6.5          2015  137999939.3  1.392446e+09   \n",
      "1        6185           7.1          2015  137999939.3  3.481613e+08   \n",
      "2        2480           6.3          2015  101199955.5  2.716190e+08   \n",
      "3        5292           7.5          2015  183999919.0  1.902723e+09   \n",
      "4        2947           7.3          2015  174799923.1  1.385749e+09   \n",
      "\n",
      "   genre_encoded  \n",
      "0              0  \n",
      "1              0  \n",
      "2              1  \n",
      "3              0  \n",
      "4              0  \n"
     ]
    }
   ],
   "source": [
    "# Display the updated DataFrame\n",
    "print(\"\\nUpdated DataFrame with Label Encoding:\")\n",
    "print(df.head())"
   ]
  },
  {
   "cell_type": "markdown",
   "metadata": {},
   "source": [
    "[2] MONTH OF RELEASE"
   ]
  },
  {
   "cell_type": "code",
   "execution_count": 191,
   "metadata": {},
   "outputs": [
    {
     "name": "stdout",
     "output_type": "stream",
     "text": [
      "\n",
      "Updated Dataset with Month of Release:\n",
      "       id  popularity     budget     revenue  runtime  vote_count  \\\n",
      "0  135397   32.985763  150000000  1513528810      124        5562   \n",
      "1   76341   28.419936  150000000   378436354      120        6185   \n",
      "2  262500   13.112507  110000000   295238201      119        2480   \n",
      "3  140607   11.173104  200000000  2068178225      136        5292   \n",
      "4  168259    9.335014  190000000  1506249360      137        2947   \n",
      "\n",
      "   vote_average  release_year   budget_adj   revenue_adj  genre_encoded  \\\n",
      "0           6.5          2015  137999939.3  1.392446e+09              0   \n",
      "1           7.1          2015  137999939.3  3.481613e+08              0   \n",
      "2           6.3          2015  101199955.5  2.716190e+08              1   \n",
      "3           7.5          2015  183999919.0  1.902723e+09              0   \n",
      "4           7.3          2015  174799923.1  1.385749e+09              0   \n",
      "\n",
      "   month of release  \n",
      "0                 6  \n",
      "1                 5  \n",
      "2                 3  \n",
      "3                12  \n",
      "4                 4  \n"
     ]
    }
   ],
   "source": [
    "# Extract the first genre from the delimited entries\n",
    "df['month of release'] = df['release_date'].str.split('/').str[0]\n",
    "\n",
    "# Drop the original 'genres' column (optional)\n",
    "df = df.drop('release_date', axis=1)\n",
    "\n",
    "# Change the datatype of the 'column_name' to float\n",
    "df['month of release'] = df['month of release'].astype(int)\n",
    "\n",
    "# Display the updated DataFrame\n",
    "print(\"\\nUpdated Dataset with Month of Release:\")\n",
    "print(df.head())"
   ]
  },
  {
   "cell_type": "code",
   "execution_count": 192,
   "metadata": {},
   "outputs": [
    {
     "name": "stdout",
     "output_type": "stream",
     "text": [
      "id                    int64\n",
      "popularity          float64\n",
      "budget                int64\n",
      "revenue               int64\n",
      "runtime               int64\n",
      "vote_count            int64\n",
      "vote_average        float64\n",
      "release_year          int64\n",
      "budget_adj          float64\n",
      "revenue_adj         float64\n",
      "genre_encoded         int32\n",
      "month of release      int32\n",
      "dtype: object\n"
     ]
    }
   ],
   "source": [
    "# datatypes of each column\n",
    "print(df.dtypes)"
   ]
  },
  {
   "cell_type": "code",
   "execution_count": 194,
   "metadata": {},
   "outputs": [
    {
     "data": {
      "text/plain": [
       "(10843, 12)"
      ]
     },
     "execution_count": 194,
     "metadata": {},
     "output_type": "execute_result"
    }
   ],
   "source": [
    "df.shape"
   ]
  },
  {
   "cell_type": "code",
   "execution_count": 193,
   "metadata": {},
   "outputs": [],
   "source": [
    "# saving the preprocessed dataset in a csv file\n",
    "df.to_csv('tmdb_movies_data_preprocessed.csv', index=False)"
   ]
  }
 ],
 "metadata": {
  "kernelspec": {
   "display_name": "Python 3",
   "language": "python",
   "name": "python3"
  },
  "language_info": {
   "codemirror_mode": {
    "name": "ipython",
    "version": 3
   },
   "file_extension": ".py",
   "mimetype": "text/x-python",
   "name": "python",
   "nbconvert_exporter": "python",
   "pygments_lexer": "ipython3",
   "version": "3.11.5"
  }
 },
 "nbformat": 4,
 "nbformat_minor": 2
}
